{
 "cells": [
  {
   "cell_type": "code",
   "execution_count": 2,
   "metadata": {},
   "outputs": [],
   "source": [
    "from tensorflow.keras.models import Sequential\n",
    "from tensorflow.keras.layers import Dense, Conv2D, Flatten, Dropout, MaxPooling2D\n",
    "from tensorflow.keras.preprocessing.image import ImageDataGenerator\n",
    "\n",
    "import os\n",
    "import numpy as np\n",
    "import matplotlib.pyplot as plt"
   ]
  },
  {
   "cell_type": "code",
   "execution_count": 3,
   "metadata": {},
   "outputs": [],
   "source": [
    "train_dir = 'train'\n",
    "validation_dir = 'validation'"
   ]
  },
  {
   "cell_type": "code",
   "execution_count": 4,
   "metadata": {},
   "outputs": [],
   "source": [
    "train_elephants_dir = os.path.join(train_dir, 'elephants') # directory with our training elephant pictures\n",
    "train_tigers_dir = os.path.join(train_dir, 'tigers') # directory with our training tiger pictures\n",
    "validation_elephants_dir = os.path.join(validation_dir, 'elephants') # directory with our validation elephant pictures\n",
    "validation_tigers_dir = os.path.join(validation_dir, 'tigers') # directory with our validation tiger pictures"
   ]
  },
  {
   "cell_type": "code",
   "execution_count": 6,
   "metadata": {},
   "outputs": [
    {
     "ename": "SyntaxError",
     "evalue": "invalid syntax (<ipython-input-6-40dddd3f95e0>, line 3)",
     "output_type": "error",
     "traceback": [
      "\u001b[0;36m  File \u001b[0;32m\"<ipython-input-6-40dddd3f95e0>\"\u001b[0;36m, line \u001b[0;32m3\u001b[0m\n\u001b[0;31m    num_tigers_tr = len(os.listdir(train_tigers_dir))num_elephants_val = len(os.listdir(validation_elephants_dir))\u001b[0m\n\u001b[0m                                                                     ^\u001b[0m\n\u001b[0;31mSyntaxError\u001b[0m\u001b[0;31m:\u001b[0m invalid syntax\n"
     ]
    }
   ],
   "source": [
    "print(os.listdir(train_tigers_dir))\n",
    "num_elephants_tr = len(os.listdir(train_elephants_dir))\n",
    "num_tigers_tr = len(os.listdir(train_tigers_dir))num_elephants_val = len(os.listdir(validation_elephants_dir))\n",
    "num_tigers_val = len(os.listdir(validation_tigers_dir))total_train = num_elephants_tr + num_tigers_tr\n",
    "total_val = num_elephants_val + num_tigers_valprint('total training elephant images:', num_elephants_tr)\n",
    "print('total training tiger images:', num_tigers_tr)\n",
    "\n",
    "print('total validation elephant images:', num_elephants_val)\n",
    "print('total validation tiger images:', num_tigers_val)\n",
    "print(\"--\")\n",
    "print(\"Total training images:\", total_train)\n",
    "print(\"Total validation images:\", total_val)"
   ]
  },
  {
   "cell_type": "code",
   "execution_count": null,
   "metadata": {},
   "outputs": [],
   "source": []
  }
 ],
 "metadata": {
  "kernelspec": {
   "display_name": "Python 3",
   "language": "python",
   "name": "python3"
  },
  "language_info": {
   "codemirror_mode": {
    "name": "ipython",
    "version": 3
   },
   "file_extension": ".py",
   "mimetype": "text/x-python",
   "name": "python",
   "nbconvert_exporter": "python",
   "pygments_lexer": "ipython3",
   "version": "3.7.6"
  }
 },
 "nbformat": 4,
 "nbformat_minor": 4
}
