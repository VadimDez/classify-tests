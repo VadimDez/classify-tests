{
 "cells": [
  {
   "cell_type": "code",
   "execution_count": 1,
   "metadata": {},
   "outputs": [],
   "source": [
    "from tensorflow.keras.models import Sequential\n",
    "from tensorflow.keras.layers import Dense, Conv2D, Flatten, Dropout, MaxPooling2D\n",
    "from tensorflow.keras.preprocessing.image import ImageDataGenerator\n",
    "\n",
    "import os\n",
    "import numpy as np\n",
    "import matplotlib.pyplot as plt"
   ]
  },
  {
   "cell_type": "code",
   "execution_count": 2,
   "metadata": {},
   "outputs": [],
   "source": [
    "train_dir = 'train'\n",
    "validation_dir = 'validation'"
   ]
  },
  {
   "cell_type": "code",
   "execution_count": 3,
   "metadata": {},
   "outputs": [],
   "source": [
    "train_elephants_dir = os.path.join(train_dir, 'elephants') # directory with our training elephant pictures\n",
    "train_tigers_dir = os.path.join(train_dir, 'tigers') # directory with our training tiger pictures\n",
    "validation_elephants_dir = os.path.join(validation_dir, 'elephants') # directory with our validation elephant pictures\n",
    "validation_tigers_dir = os.path.join(validation_dir, 'tigers') # directory with our validation tiger pictures"
   ]
  },
  {
   "cell_type": "code",
   "execution_count": 4,
   "metadata": {},
   "outputs": [
    {
     "name": "stdout",
     "output_type": "stream",
     "text": [
      "total training elephant images: 6\n",
      "total training tiger images: 6\n",
      "total validation elephant images: 3\n",
      "total validation tiger images: 3\n",
      "--\n",
      "Total training images: 12\n",
      "Total validation images: 6\n"
     ]
    }
   ],
   "source": [
    "num_elephants_tr = len(os.listdir(train_tigers_dir))\n",
    "num_tigers_tr = len(os.listdir(train_tigers_dir))\n",
    "num_elephants_val = len(os.listdir(validation_elephants_dir))\n",
    "num_tigers_val = len(os.listdir(validation_tigers_dir))\n",
    "total_train = num_elephants_tr + num_tigers_tr\n",
    "total_val = num_elephants_val + num_tigers_val\n",
    "print('total training elephant images:', num_elephants_tr)\n",
    "print('total training tiger images:', num_tigers_tr)\n",
    "\n",
    "print('total validation elephant images:', num_elephants_val)\n",
    "print('total validation tiger images:', num_tigers_val)\n",
    "print(\"--\")\n",
    "print(\"Total training images:\", total_train)\n",
    "print(\"Total validation images:\", total_val)"
   ]
  },
  {
   "cell_type": "code",
   "execution_count": 5,
   "metadata": {},
   "outputs": [],
   "source": [
    "batch_size = 128\n",
    "epochs = 15\n",
    "IMG_HEIGHT = 150\n",
    "IMG_WIDTH = 150"
   ]
  },
  {
   "cell_type": "code",
   "execution_count": 6,
   "metadata": {},
   "outputs": [],
   "source": [
    "train_image_generator = ImageDataGenerator(rescale=1./255) # Generator for our training data\n",
    "validation_image_generator = ImageDataGenerator(rescale=1./255) # Generator for our validation data"
   ]
  },
  {
   "cell_type": "code",
   "execution_count": 7,
   "metadata": {},
   "outputs": [
    {
     "name": "stdout",
     "output_type": "stream",
     "text": [
      "Found 11 images belonging to 2 classes.\n",
      "Found 6 images belonging to 2 classes.\n"
     ]
    }
   ],
   "source": [
    "train_data_gen = train_image_generator.flow_from_directory(batch_size=batch_size,\n",
    " directory=train_dir,\n",
    " shuffle=True,\n",
    " target_size=(IMG_HEIGHT, IMG_WIDTH),\n",
    " class_mode='binary')\n",
    "\n",
    "val_data_gen = validation_image_generator.flow_from_directory(batch_size=batch_size,\n",
    " directory=validation_dir,\n",
    " target_size=(IMG_HEIGHT, IMG_WIDTH),\n",
    " class_mode='binary')"
   ]
  },
  {
   "cell_type": "code",
   "execution_count": 8,
   "metadata": {},
   "outputs": [],
   "source": [
    "model = Sequential([\n",
    " Conv2D(16, 3, padding='same', activation='relu', input_shape=(IMG_HEIGHT, IMG_WIDTH ,3)),\n",
    " MaxPooling2D(),\n",
    " Conv2D(32, 3, padding='same', activation='relu'),\n",
    " MaxPooling2D(),\n",
    " Conv2D(64, 3, padding='same', activation='relu'),\n",
    " MaxPooling2D(),\n",
    " Flatten(),\n",
    " Dense(512, activation='relu'),\n",
    " Dense(1, activation='sigmoid')\n",
    "])"
   ]
  },
  {
   "cell_type": "code",
   "execution_count": 9,
   "metadata": {},
   "outputs": [],
   "source": [
    "model.compile(optimizer='adam',\n",
    " loss='binary_crossentropy',\n",
    " metrics=['accuracy'])"
   ]
  },
  {
   "cell_type": "code",
   "execution_count": 10,
   "metadata": {},
   "outputs": [
    {
     "name": "stdout",
     "output_type": "stream",
     "text": [
      "Model: \"sequential\"\n",
      "_________________________________________________________________\n",
      "Layer (type)                 Output Shape              Param #   \n",
      "=================================================================\n",
      "conv2d (Conv2D)              (None, 150, 150, 16)      448       \n",
      "_________________________________________________________________\n",
      "max_pooling2d (MaxPooling2D) (None, 75, 75, 16)        0         \n",
      "_________________________________________________________________\n",
      "conv2d_1 (Conv2D)            (None, 75, 75, 32)        4640      \n",
      "_________________________________________________________________\n",
      "max_pooling2d_1 (MaxPooling2 (None, 37, 37, 32)        0         \n",
      "_________________________________________________________________\n",
      "conv2d_2 (Conv2D)            (None, 37, 37, 64)        18496     \n",
      "_________________________________________________________________\n",
      "max_pooling2d_2 (MaxPooling2 (None, 18, 18, 64)        0         \n",
      "_________________________________________________________________\n",
      "flatten (Flatten)            (None, 20736)             0         \n",
      "_________________________________________________________________\n",
      "dense (Dense)                (None, 512)               10617344  \n",
      "_________________________________________________________________\n",
      "dense_1 (Dense)              (None, 1)                 513       \n",
      "=================================================================\n",
      "Total params: 10,641,441\n",
      "Trainable params: 10,641,441\n",
      "Non-trainable params: 0\n",
      "_________________________________________________________________\n"
     ]
    }
   ],
   "source": [
    "model.summary()"
   ]
  },
  {
   "cell_type": "code",
   "execution_count": 11,
   "metadata": {},
   "outputs": [
    {
     "name": "stdout",
     "output_type": "stream",
     "text": [
      "WARNING:tensorflow:From <ipython-input-11-69206f26c829>:6: Model.fit_generator (from tensorflow.python.keras.engine.training) is deprecated and will be removed in a future version.\n",
      "Instructions for updating:\n",
      "Please use Model.fit, which supports generators.\n",
      "WARNING:tensorflow:sample_weight modes were coerced from\n",
      "  ...\n",
      "    to  \n",
      "  ['...']\n",
      "WARNING:tensorflow:sample_weight modes were coerced from\n",
      "  ...\n",
      "    to  \n",
      "  ['...']\n",
      "Train for 1 steps, validate for 1 steps\n",
      "Epoch 1/15\n",
      "1/1 [==============================] - 1s 997ms/step - loss: 0.6992 - accuracy: 0.4545 - val_loss: 1.6639 - val_accuracy: 0.5000\n",
      "Epoch 2/15\n",
      "1/1 [==============================] - 0s 331ms/step - loss: 1.3606 - accuracy: 0.5455 - val_loss: 0.8139 - val_accuracy: 0.5000\n",
      "Epoch 3/15\n",
      "1/1 [==============================] - 0s 333ms/step - loss: 0.7584 - accuracy: 0.6364 - val_loss: 0.6932 - val_accuracy: 0.5000\n",
      "Epoch 4/15\n",
      "1/1 [==============================] - 0s 331ms/step - loss: 0.5729 - accuracy: 0.6364 - val_loss: 0.5810 - val_accuracy: 0.6667\n",
      "Epoch 5/15\n",
      "1/1 [==============================] - 0s 321ms/step - loss: 0.3597 - accuracy: 1.0000 - val_loss: 0.6292 - val_accuracy: 0.5000\n",
      "Epoch 6/15\n",
      "1/1 [==============================] - 0s 343ms/step - loss: 0.3634 - accuracy: 0.7273 - val_loss: 0.5828 - val_accuracy: 0.8333\n",
      "Epoch 7/15\n",
      "1/1 [==============================] - 0s 329ms/step - loss: 0.2958 - accuracy: 1.0000 - val_loss: 0.5056 - val_accuracy: 0.6667\n",
      "Epoch 8/15\n",
      "1/1 [==============================] - 0s 321ms/step - loss: 0.1823 - accuracy: 1.0000 - val_loss: 0.5245 - val_accuracy: 0.8333\n",
      "Epoch 9/15\n",
      "1/1 [==============================] - 0s 321ms/step - loss: 0.1155 - accuracy: 1.0000 - val_loss: 0.6011 - val_accuracy: 0.8333\n",
      "Epoch 10/15\n",
      "1/1 [==============================] - 0s 409ms/step - loss: 0.0736 - accuracy: 1.0000 - val_loss: 0.5815 - val_accuracy: 0.8333\n",
      "Epoch 11/15\n",
      "1/1 [==============================] - 0s 333ms/step - loss: 0.0328 - accuracy: 1.0000 - val_loss: 0.5587 - val_accuracy: 0.6667\n",
      "Epoch 12/15\n",
      "1/1 [==============================] - 0s 329ms/step - loss: 0.0238 - accuracy: 1.0000 - val_loss: 0.6588 - val_accuracy: 0.6667\n",
      "Epoch 13/15\n",
      "1/1 [==============================] - 0s 336ms/step - loss: 0.0098 - accuracy: 1.0000 - val_loss: 0.8489 - val_accuracy: 0.8333\n",
      "Epoch 14/15\n",
      "1/1 [==============================] - 0s 320ms/step - loss: 0.0030 - accuracy: 1.0000 - val_loss: 1.0888 - val_accuracy: 0.8333\n",
      "Epoch 15/15\n",
      "1/1 [==============================] - 0s 385ms/step - loss: 0.0021 - accuracy: 1.0000 - val_loss: 1.3078 - val_accuracy: 0.8333\n"
     ]
    }
   ],
   "source": [
    "history = model.fit_generator(\n",
    " train_data_gen,\n",
    " steps_per_epoch=total_train // batch_size,\n",
    " epochs=epochs,\n",
    " validation_data=val_data_gen,\n",
    " validation_steps=total_val // batch_size\n",
    ")"
   ]
  },
  {
   "cell_type": "code",
   "execution_count": 13,
   "metadata": {},
   "outputs": [
    {
     "name": "stdout",
     "output_type": "stream",
     "text": [
      "WARNING:tensorflow:sample_weight modes were coerced from\n",
      "  ...\n",
      "    to  \n",
      "  ['...']\n",
      "WARNING:tensorflow:sample_weight modes were coerced from\n",
      "  ...\n",
      "    to  \n",
      "  ['...']\n",
      "Train for 1 steps, validate for 1 steps\n",
      "Epoch 1/15\n",
      "1/1 [==============================] - 0s 314ms/step - loss: 0.0020 - accuracy: 1.0000 - val_loss: 1.4572 - val_accuracy: 0.8333\n",
      "Epoch 2/15\n",
      "1/1 [==============================] - 0s 341ms/step - loss: 0.0012 - accuracy: 1.0000 - val_loss: 1.5453 - val_accuracy: 0.8333\n",
      "Epoch 3/15\n",
      "1/1 [==============================] - 0s 338ms/step - loss: 5.2123e-04 - accuracy: 1.0000 - val_loss: 1.5981 - val_accuracy: 0.8333\n",
      "Epoch 4/15\n",
      "1/1 [==============================] - 0s 332ms/step - loss: 1.8079e-04 - accuracy: 1.0000 - val_loss: 1.6273 - val_accuracy: 0.8333\n",
      "Epoch 5/15\n",
      "1/1 [==============================] - 0s 328ms/step - loss: 5.9674e-05 - accuracy: 1.0000 - val_loss: 1.6438 - val_accuracy: 0.8333\n",
      "Epoch 6/15\n",
      "1/1 [==============================] - 0s 323ms/step - loss: 2.1681e-05 - accuracy: 1.0000 - val_loss: 1.6493 - val_accuracy: 0.8333\n",
      "Epoch 7/15\n",
      "1/1 [==============================] - 0s 315ms/step - loss: 1.0227e-05 - accuracy: 1.0000 - val_loss: 1.6487 - val_accuracy: 0.8333\n",
      "Epoch 8/15\n",
      "1/1 [==============================] - 0s 378ms/step - loss: 6.8309e-06 - accuracy: 1.0000 - val_loss: 1.6419 - val_accuracy: 0.8333\n",
      "Epoch 9/15\n",
      "1/1 [==============================] - 0s 341ms/step - loss: 6.0080e-06 - accuracy: 1.0000 - val_loss: 1.6302 - val_accuracy: 0.8333\n",
      "Epoch 10/15\n",
      "1/1 [==============================] - 0s 346ms/step - loss: 6.0596e-06 - accuracy: 1.0000 - val_loss: 1.6197 - val_accuracy: 0.6667\n",
      "Epoch 11/15\n",
      "1/1 [==============================] - 0s 394ms/step - loss: 6.4812e-06 - accuracy: 1.0000 - val_loss: 1.6130 - val_accuracy: 0.6667\n",
      "Epoch 12/15\n",
      "1/1 [==============================] - 0s 407ms/step - loss: 7.1060e-06 - accuracy: 1.0000 - val_loss: 1.6106 - val_accuracy: 0.6667\n",
      "Epoch 13/15\n",
      "1/1 [==============================] - 0s 437ms/step - loss: 7.8578e-06 - accuracy: 1.0000 - val_loss: 1.6113 - val_accuracy: 0.6667\n",
      "Epoch 14/15\n",
      "1/1 [==============================] - 0s 335ms/step - loss: 8.6964e-06 - accuracy: 1.0000 - val_loss: 1.6142 - val_accuracy: 0.6667\n",
      "Epoch 15/15\n",
      "1/1 [==============================] - 0s 319ms/step - loss: 9.5510e-06 - accuracy: 1.0000 - val_loss: 1.6190 - val_accuracy: 0.6667\n"
     ]
    }
   ],
   "source": [
    "binary1 = model.fit(train_data_gen,\n",
    "    None,\n",
    "    #batch_size=total_train,\n",
    "    epochs=epochs,\n",
    "    validation_data=val_data_gen,\n",
    "    validation_steps=total_val // batch_size\n",
    ")"
   ]
  },
  {
   "cell_type": "code",
   "execution_count": 14,
   "metadata": {},
   "outputs": [
    {
     "ename": "SyntaxError",
     "evalue": "invalid syntax (<ipython-input-14-b5a00278d650>, line 2)",
     "output_type": "error",
     "traceback": [
      "\u001b[0;36m  File \u001b[0;32m\"<ipython-input-14-b5a00278d650>\"\u001b[0;36m, line \u001b[0;32m2\u001b[0m\n\u001b[0;31m    val_acc = history.history['val_accuracy']loss = history.history['loss']\u001b[0m\n\u001b[0m                                                ^\u001b[0m\n\u001b[0;31mSyntaxError\u001b[0m\u001b[0;31m:\u001b[0m invalid syntax\n"
     ]
    }
   ],
   "source": [
    "acc = history.history['accuracy']\n",
    "val_acc = history.history['val_accuracy']loss = history.history['loss']\n",
    "val_loss = history.history['val_loss']epochs_range = range(epochs)plt.figure(figsize=(8, 8))\n",
    "plt.subplot(1, 2, 1)\n",
    "plt.plot(epochs_range, acc, label='Training Accuracy')\n",
    "plt.plot(epochs_range, val_acc, label='Validation Accuracy')\n",
    "plt.legend(loc='lower right')\n",
    "plt.title('Training and Validation Accuracy')plt.subplot(1, 2, 2)\n",
    "plt.plot(epochs_range, loss, label='Training Loss')\n",
    "plt.plot(epochs_range, val_loss, label='Validation Loss')\n",
    "plt.legend(loc='upper right')\n",
    "plt.title('Training and Validation Loss')\n",
    "plt.show()"
   ]
  },
  {
   "cell_type": "code",
   "execution_count": null,
   "metadata": {},
   "outputs": [],
   "source": []
  }
 ],
 "metadata": {
  "kernelspec": {
   "display_name": "Python 3",
   "language": "python",
   "name": "python3"
  },
  "language_info": {
   "codemirror_mode": {
    "name": "ipython",
    "version": 3
   },
   "file_extension": ".py",
   "mimetype": "text/x-python",
   "name": "python",
   "nbconvert_exporter": "python",
   "pygments_lexer": "ipython3",
   "version": "3.7.6"
  }
 },
 "nbformat": 4,
 "nbformat_minor": 4
}
